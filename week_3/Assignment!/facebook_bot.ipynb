{
 "cells": [
  {
   "cell_type": "code",
   "execution_count": 2,
   "metadata": {},
   "outputs": [
    {
     "name": "stdout",
     "output_type": "stream",
     "text": [
      "Enter password:\n",
      "········\n",
      "Enter secure code:\n",
      "········\n",
      "Enter the link of the post you want to like,comment and share:https://m.facebook.com/DeveloperStudentClubDHASuffaUniversity/posts/2838706263116774\n"
     ]
    }
   ],
   "source": [
    "from selenium import webdriver\n",
    "from getpass import getpass\n",
    "import time\n",
    "driver = webdriver.Chrome()\n",
    "driver.get(\"https://facebook.com\")\n",
    "facebook_id=driver.find_element_by_xpath('''//*[@id=\"email\"]''')\n",
    "facebook_id.click()\n",
    "facebook_id.send_keys(\"syedhassam2001@hotmail.com\")\n",
    "facebook_pw=driver.find_element_by_xpath('''//*[@id=\"pass\"]''')\n",
    "facebook_pw.click()\n",
    "print(\"Enter password:\")\n",
    "password=getpass()\n",
    "facebook_pw.send_keys(password)\n",
    "facebook_pw.send_keys(\"\\n\")\n",
    "print(\"Enter secure code:\")\n",
    "code=getpass()\n",
    "fb_code=driver.find_element_by_xpath('''//*[@id=\"approvals_code\"]''')\n",
    "fb_code.send_keys(code)\n",
    "fb_code.send_keys(\"\\n\")\n",
    "saveb=driver.find_element_by_xpath('''//*[@id=\"u_0_b\"]/div/div[2]/div[2]/div[1]/label/span''')\n",
    "saveb.click()\n",
    "contb=driver.find_element_by_xpath('''//*[@id=\"checkpointSubmitButton\"]''')\n",
    "contb.click()\n",
    "link=input(\"Enter the link of the post you want to like,comment and share:\")\n",
    "driver.get(link)\n",
    "like_button=driver.find_elements_by_xpath('''//*[@id=\"u_0_t\"]''')\n",
    "like_button[0].click()\n",
    "\n",
    "share_button=driver.find_elements_by_xpath('''//*[@id=\"u_0_q\"]/footer/div/div[2]/div[3]/a''')\n",
    "share_button[0].click()\n",
    "share_nowb=driver.find_elements_by_xpath('''//*[@id=\"share-with-message-button\"]''')\n",
    "share_nowb[0].click()\n",
    "time.sleep(2)\n",
    "write=driver.find_elements_by_xpath('''//*[@id=\"share_msg_input\"]''')\n",
    "write[0].send_keys('''\"This post was shared using a bot that I learnt to create from Python Bootcamp 2020 held by DSC@DSU. #DSCDSU #DeveloperStudentClubs #DSCPakistan #Python #Bot\"''')\n",
    "post_bt=driver.find_elements_by_xpath('''//*[@id=\"share_submit\"]''')\n",
    "post_bt[0].click()"
   ]
  }
 ],
 "metadata": {
  "kernelspec": {
   "display_name": "Python 3",
   "language": "python",
   "name": "python3"
  },
  "language_info": {
   "codemirror_mode": {
    "name": "ipython",
    "version": 3
   },
   "file_extension": ".py",
   "mimetype": "text/x-python",
   "name": "python",
   "nbconvert_exporter": "python",
   "pygments_lexer": "ipython3",
   "version": "3.8.3"
  }
 },
 "nbformat": 4,
 "nbformat_minor": 4
}
